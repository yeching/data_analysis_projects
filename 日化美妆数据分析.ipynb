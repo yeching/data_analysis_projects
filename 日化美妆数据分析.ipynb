{
 "cells": [
  {
   "cell_type": "markdown",
   "id": "1ad94c5e-b639-4aba-a7da-2868e844a333",
   "metadata": {},
   "source": [
    "## 0.前言"
   ]
  },
  {
   "cell_type": "markdown",
   "id": "9e32fd46-7690-4745-babe-438a51cc8965",
   "metadata": {},
   "source": [
    "日化.xlsx 这个数据集是美妆类商品的订单数据，从数量来看，应该是批发类的订单。包含两个 sheet 页（订单表和商品表），可以挖掘的纬度有日期、地区、商品，指标则有销售量、销售额、增长率等。"
   ]
  },
  {
   "cell_type": "markdown",
   "id": "580aff31-21b3-4bc4-9b8f-85b2a431885a",
   "metadata": {},
   "source": [
    "## 1.导入库 读取数据"
   ]
  },
  {
   "cell_type": "code",
   "execution_count": 24,
   "id": "0c9f1dd9-6c2a-4aa4-adba-8d14c7c6d207",
   "metadata": {},
   "outputs": [],
   "source": [
    "import pandas as pd\n",
    "import pandas_profiling as pdp\n",
    "import matplotlib as plt\n",
    "plt.rcParams['font.sans-serif'] = ['SimHei']"
   ]
  },
  {
   "cell_type": "code",
   "execution_count": 25,
   "id": "4a965c8c-886f-4461-979a-811394b58240",
   "metadata": {},
   "outputs": [],
   "source": [
    "# 读取数据\n",
    "order = pd.read_excel('日化.xlsx', sheet_name='销售订单表')\n",
    "product = pd.read_excel('日化.xlsx', sheet_name='商品信息表')\n",
    "# pdp.ProfileReport(product)"
   ]
  },
  {
   "cell_type": "markdown",
   "id": "0a31dfba-6f1f-4f8f-844d-329a57153bc5",
   "metadata": {},
   "source": [
    "## 2.数据清洗\n",
    "查看数据的基本情况，确认是否有缺失，重复，并进行对应的处理"
   ]
  },
  {
   "cell_type": "markdown",
   "id": "cfdb3be7-5409-4417-8de2-654206a2ec6d",
   "metadata": {},
   "source": [
    "### 2.1 订单表数据清洗"
   ]
  },
  {
   "cell_type": "code",
   "execution_count": 26,
   "id": "12cb583a-fc0f-4fd3-a4d4-53ffd6b8ccd3",
   "metadata": {},
   "outputs": [
    {
     "data": {
      "text/html": [
       "<div>\n",
       "<style scoped>\n",
       "    .dataframe tbody tr th:only-of-type {\n",
       "        vertical-align: middle;\n",
       "    }\n",
       "\n",
       "    .dataframe tbody tr th {\n",
       "        vertical-align: top;\n",
       "    }\n",
       "\n",
       "    .dataframe thead th {\n",
       "        text-align: right;\n",
       "    }\n",
       "</style>\n",
       "<table border=\"1\" class=\"dataframe\">\n",
       "  <thead>\n",
       "    <tr style=\"text-align: right;\">\n",
       "      <th></th>\n",
       "      <th>订单编码</th>\n",
       "      <th>订单日期</th>\n",
       "      <th>客户编码</th>\n",
       "      <th>所在区域</th>\n",
       "      <th>所在省份</th>\n",
       "      <th>所在地市</th>\n",
       "      <th>商品编号</th>\n",
       "      <th>订购数量</th>\n",
       "      <th>订购单价</th>\n",
       "      <th>金额</th>\n",
       "    </tr>\n",
       "  </thead>\n",
       "  <tbody>\n",
       "    <tr>\n",
       "      <th>0</th>\n",
       "      <td>D31313</td>\n",
       "      <td>2019-05-16 00:00:00</td>\n",
       "      <td>S22796</td>\n",
       "      <td>东区</td>\n",
       "      <td>浙江省</td>\n",
       "      <td>台州市</td>\n",
       "      <td>X091</td>\n",
       "      <td>892</td>\n",
       "      <td>214</td>\n",
       "      <td>190888.0</td>\n",
       "    </tr>\n",
       "    <tr>\n",
       "      <th>1</th>\n",
       "      <td>D21329</td>\n",
       "      <td>2019-05-14 00:00:00</td>\n",
       "      <td>S11460</td>\n",
       "      <td>东区</td>\n",
       "      <td>安徽省</td>\n",
       "      <td>宿州市</td>\n",
       "      <td>X005</td>\n",
       "      <td>276</td>\n",
       "      <td>185</td>\n",
       "      <td>51060.0</td>\n",
       "    </tr>\n",
       "    <tr>\n",
       "      <th>2</th>\n",
       "      <td>D22372</td>\n",
       "      <td>2019-08-26 00:00:00</td>\n",
       "      <td>S11101</td>\n",
       "      <td>北区</td>\n",
       "      <td>山西省</td>\n",
       "      <td>忻州市</td>\n",
       "      <td>X078</td>\n",
       "      <td>1450</td>\n",
       "      <td>116</td>\n",
       "      <td>168200.0</td>\n",
       "    </tr>\n",
       "    <tr>\n",
       "      <th>3</th>\n",
       "      <td>D31078</td>\n",
       "      <td>2019-04-08 00:00:00</td>\n",
       "      <td>S10902</td>\n",
       "      <td>北区</td>\n",
       "      <td>吉林省</td>\n",
       "      <td>延边朝鲜族自治州</td>\n",
       "      <td>X025</td>\n",
       "      <td>1834</td>\n",
       "      <td>102</td>\n",
       "      <td>187068.0</td>\n",
       "    </tr>\n",
       "    <tr>\n",
       "      <th>4</th>\n",
       "      <td>D32470</td>\n",
       "      <td>2019-04-11 00:00:00</td>\n",
       "      <td>S18696</td>\n",
       "      <td>北区</td>\n",
       "      <td>北京市</td>\n",
       "      <td>北京市</td>\n",
       "      <td>X010</td>\n",
       "      <td>887</td>\n",
       "      <td>58</td>\n",
       "      <td>51446.0</td>\n",
       "    </tr>\n",
       "  </tbody>\n",
       "</table>\n",
       "</div>"
      ],
      "text/plain": [
       "     订单编码                 订单日期    客户编码 所在区域 所在省份      所在地市  商品编号  订购数量 订购单价  \\\n",
       "0  D31313  2019-05-16 00:00:00  S22796   东区  浙江省       台州市  X091   892  214   \n",
       "1  D21329  2019-05-14 00:00:00  S11460   东区  安徽省       宿州市  X005   276  185   \n",
       "2  D22372  2019-08-26 00:00:00  S11101   北区  山西省       忻州市  X078  1450  116   \n",
       "3  D31078  2019-04-08 00:00:00  S10902   北区  吉林省  延边朝鲜族自治州  X025  1834  102   \n",
       "4  D32470  2019-04-11 00:00:00  S18696   北区  北京市       北京市  X010   887   58   \n",
       "\n",
       "         金额  \n",
       "0  190888.0  \n",
       "1   51060.0  \n",
       "2  168200.0  \n",
       "3  187068.0  \n",
       "4   51446.0  "
      ]
     },
     "execution_count": 26,
     "metadata": {},
     "output_type": "execute_result"
    }
   ],
   "source": [
    "order.head()# 查看前几行数据"
   ]
  },
  {
   "cell_type": "code",
   "execution_count": 27,
   "id": "74c4a7e0-340b-4b7b-b019-06ddc2c08a9e",
   "metadata": {},
   "outputs": [
    {
     "name": "stdout",
     "output_type": "stream",
     "text": [
      "<class 'pandas.core.frame.DataFrame'>\n",
      "RangeIndex: 31452 entries, 0 to 31451\n",
      "Data columns (total 10 columns):\n",
      " #   Column  Non-Null Count  Dtype  \n",
      "---  ------  --------------  -----  \n",
      " 0   订单编码    31452 non-null  object \n",
      " 1   订单日期    31452 non-null  object \n",
      " 2   客户编码    31452 non-null  object \n",
      " 3   所在区域    31450 non-null  object \n",
      " 4   所在省份    31450 non-null  object \n",
      " 5   所在地市    31452 non-null  object \n",
      " 6   商品编号    31451 non-null  object \n",
      " 7   订购数量    31450 non-null  object \n",
      " 8   订购单价    31448 non-null  object \n",
      " 9   金额      31448 non-null  float64\n",
      "dtypes: float64(1), object(9)\n",
      "memory usage: 2.4+ MB\n"
     ]
    }
   ],
   "source": [
    "order.info() # 查看数据总体情况"
   ]
  },
  {
   "cell_type": "code",
   "execution_count": 28,
   "id": "9cf1669c-d31e-482c-a031-1aa10b6b6abb",
   "metadata": {},
   "outputs": [
    {
     "data": {
      "text/plain": [
       "订单编码    6\n",
       "订单日期    6\n",
       "客户编码    6\n",
       "所在区域    6\n",
       "所在省份    6\n",
       "所在地市    6\n",
       "商品编号    6\n",
       "订购数量    6\n",
       "订购单价    6\n",
       "金额      6\n",
       "dtype: int64"
      ]
     },
     "execution_count": 28,
     "metadata": {},
     "output_type": "execute_result"
    }
   ],
   "source": [
    "order[order.duplicated()].count() # 查看重复数据的数量"
   ]
  },
  {
   "cell_type": "code",
   "execution_count": 29,
   "id": "0c64350b-274b-4562-9063-d4013607145c",
   "metadata": {},
   "outputs": [
    {
     "data": {
      "text/plain": [
       "订单编码    0\n",
       "订单日期    0\n",
       "客户编码    0\n",
       "所在区域    2\n",
       "所在省份    2\n",
       "所在地市    0\n",
       "商品编号    1\n",
       "订购数量    2\n",
       "订购单价    4\n",
       "金额      4\n",
       "dtype: int64"
      ]
     },
     "execution_count": 29,
     "metadata": {},
     "output_type": "execute_result"
    }
   ],
   "source": [
    "order.drop_duplicates(inplace=True)   # 删除重复数据\n",
    "order.reset_index(drop=True, inplace=True)  # 重建索引\n",
    "order.isnull().sum()  # 查看空值，有几条数据缺失"
   ]
  },
  {
   "cell_type": "code",
   "execution_count": 30,
   "id": "df087bf9-cf2b-4983-b9e7-2c3880216ec8",
   "metadata": {},
   "outputs": [
    {
     "data": {
      "text/plain": [
       "订单编码    0\n",
       "订单日期    0\n",
       "客户编码    0\n",
       "所在区域    0\n",
       "所在省份    0\n",
       "所在地市    0\n",
       "商品编号    0\n",
       "订购数量    0\n",
       "订购单价    0\n",
       "金额      0\n",
       "dtype: int64"
      ]
     },
     "execution_count": 30,
     "metadata": {},
     "output_type": "execute_result"
    }
   ],
   "source": [
    "order.fillna(method='bfill', inplace=True) # 空值填充\n",
    "order.fillna(method='ffill', inplace=True) # 空值填充\n",
    "order.isnull().sum()  # 查看空值，有几条数据缺失"
   ]
  },
  {
   "cell_type": "code",
   "execution_count": 31,
   "id": "675c740e-2525-4af1-bada-b05a319521aa",
   "metadata": {},
   "outputs": [
    {
     "data": {
      "text/html": [
       "<div>\n",
       "<style scoped>\n",
       "    .dataframe tbody tr th:only-of-type {\n",
       "        vertical-align: middle;\n",
       "    }\n",
       "\n",
       "    .dataframe tbody tr th {\n",
       "        vertical-align: top;\n",
       "    }\n",
       "\n",
       "    .dataframe thead th {\n",
       "        text-align: right;\n",
       "    }\n",
       "</style>\n",
       "<table border=\"1\" class=\"dataframe\">\n",
       "  <thead>\n",
       "    <tr style=\"text-align: right;\">\n",
       "      <th></th>\n",
       "      <th>订单编码</th>\n",
       "      <th>订单日期</th>\n",
       "      <th>客户编码</th>\n",
       "      <th>所在区域</th>\n",
       "      <th>所在省份</th>\n",
       "      <th>所在地市</th>\n",
       "      <th>商品编号</th>\n",
       "      <th>订购数量</th>\n",
       "      <th>订购单价</th>\n",
       "      <th>金额</th>\n",
       "    </tr>\n",
       "  </thead>\n",
       "  <tbody>\n",
       "    <tr>\n",
       "      <th>20797</th>\n",
       "      <td>D26533</td>\n",
       "      <td>2050-06-09</td>\n",
       "      <td>S21396</td>\n",
       "      <td>北区</td>\n",
       "      <td>河北省</td>\n",
       "      <td>石家庄市</td>\n",
       "      <td>X022</td>\n",
       "      <td>759</td>\n",
       "      <td>158</td>\n",
       "      <td>119922.0</td>\n",
       "    </tr>\n",
       "  </tbody>\n",
       "</table>\n",
       "</div>"
      ],
      "text/plain": [
       "         订单编码       订单日期    客户编码 所在区域 所在省份  所在地市  商品编号 订购数量 订购单价        金额\n",
       "20797  D26533 2050-06-09  S21396   北区  河北省  石家庄市  X022  759  158  119922.0"
      ]
     },
     "execution_count": 31,
     "metadata": {},
     "output_type": "execute_result"
    }
   ],
   "source": [
    "order['订单日期'] = order['订单日期'].apply(lambda x: pd.to_datetime(x, format='%Y#%m#%d') if isinstance(x, str) else x)\n",
    "order[order['订单日期'] > '2021-01-01'] # 有一条脏数据"
   ]
  },
  {
   "cell_type": "code",
   "execution_count": 32,
   "id": "ddca7b40-5668-440d-8ed4-0b96196fdb33",
   "metadata": {},
   "outputs": [
    {
     "data": {
      "text/plain": [
       "(Timestamp('2019-09-30 00:00:00'), Timestamp('2019-01-01 00:00:00'))"
      ]
     },
     "execution_count": 32,
     "metadata": {},
     "output_type": "execute_result"
    }
   ],
   "source": [
    "order = order[order['订单日期'] < '2021-01-01'] # 过滤掉脏数据\n",
    "order['订单日期'].max(), order['订单日期'].min()  # 数据区间在 2019-01-01 到 2019-09-30 之间"
   ]
  },
  {
   "cell_type": "code",
   "execution_count": 33,
   "id": "44e989a9-49da-4617-b3ef-6f17b3e93f4f",
   "metadata": {},
   "outputs": [],
   "source": [
    "order['订购数量'] = order['订购数量'].apply(lambda x: x.strip('个') if isinstance(x, str) else x).astype('int')\n",
    "order['订购单价'] = order['订购单价'].apply(lambda x: x.strip('元') if isinstance(x, str) else x).astype('float')\n",
    "order['金额'] = order['金额'].astype('float')"
   ]
  },
  {
   "cell_type": "code",
   "execution_count": 34,
   "id": "66142ffe-ddeb-4e36-a002-5775f1ace31c",
   "metadata": {},
   "outputs": [
    {
     "name": "stdout",
     "output_type": "stream",
     "text": [
      "<class 'pandas.core.frame.DataFrame'>\n",
      "Int64Index: 31445 entries, 0 to 31445\n",
      "Data columns (total 10 columns):\n",
      " #   Column  Non-Null Count  Dtype         \n",
      "---  ------  --------------  -----         \n",
      " 0   订单编码    31445 non-null  object        \n",
      " 1   订单日期    31445 non-null  datetime64[ns]\n",
      " 2   客户编码    31445 non-null  object        \n",
      " 3   所在区域    31445 non-null  object        \n",
      " 4   所在省份    31445 non-null  object        \n",
      " 5   所在地市    31445 non-null  object        \n",
      " 6   商品编号    31445 non-null  object        \n",
      " 7   订购数量    31445 non-null  int32         \n",
      " 8   订购单价    31445 non-null  float64       \n",
      " 9   金额      31445 non-null  float64       \n",
      "dtypes: datetime64[ns](1), float64(2), int32(1), object(6)\n",
      "memory usage: 2.5+ MB\n"
     ]
    }
   ],
   "source": [
    "order.info()"
   ]
  },
  {
   "cell_type": "code",
   "execution_count": 35,
   "id": "00a3af7f-e903-4c5c-b38d-79a9b518585e",
   "metadata": {},
   "outputs": [
    {
     "data": {
      "text/plain": [
       "array(['浙江', '安徽', '山西', '吉林', '北京', '云南', '广东', '广西', '内蒙古', '新疆', '湖北',\n",
       "       '江苏', '甘肃', '四川', '河南', '福建', '陕西', '辽宁', '山东', '江西', '重庆', '河北',\n",
       "       '湖南', '上海', '贵州', '天津', '海南', '宁夏', '黑龙江'], dtype=object)"
      ]
     },
     "execution_count": 35,
     "metadata": {},
     "output_type": "execute_result"
    }
   ],
   "source": [
    "order['所在省份'] = order['所在省份'].str.replace(r'自治区|维吾尔|回族|壮族|省|市', '',regex=True)  # 对省份做个清洗，便于可视化\n",
    "order['所在省份'].unique()"
   ]
  },
  {
   "cell_type": "code",
   "execution_count": 36,
   "id": "7fb0ae98-ba5f-4801-aedc-b665c0126e84",
   "metadata": {},
   "outputs": [],
   "source": [
    "order['客户编码'] = order['客户编码'].str.replace('编号', '')"
   ]
  },
  {
   "cell_type": "markdown",
   "id": "c3a102bb-08d2-4b42-8c19-65ade34d812d",
   "metadata": {},
   "source": [
    "### 2.2商品表数据清洗"
   ]
  },
  {
   "cell_type": "code",
   "execution_count": 37,
   "id": "96bfbf38-ec53-421f-9208-44125efce9df",
   "metadata": {},
   "outputs": [
    {
     "data": {
      "text/html": [
       "<div>\n",
       "<style scoped>\n",
       "    .dataframe tbody tr th:only-of-type {\n",
       "        vertical-align: middle;\n",
       "    }\n",
       "\n",
       "    .dataframe tbody tr th {\n",
       "        vertical-align: top;\n",
       "    }\n",
       "\n",
       "    .dataframe thead th {\n",
       "        text-align: right;\n",
       "    }\n",
       "</style>\n",
       "<table border=\"1\" class=\"dataframe\">\n",
       "  <thead>\n",
       "    <tr style=\"text-align: right;\">\n",
       "      <th></th>\n",
       "      <th>商品编号</th>\n",
       "      <th>商品名称</th>\n",
       "      <th>商品小类</th>\n",
       "      <th>商品大类</th>\n",
       "      <th>销售单价</th>\n",
       "    </tr>\n",
       "  </thead>\n",
       "  <tbody>\n",
       "    <tr>\n",
       "      <th>0</th>\n",
       "      <td>X001</td>\n",
       "      <td>商品1</td>\n",
       "      <td>面膜</td>\n",
       "      <td>护肤品</td>\n",
       "      <td>121</td>\n",
       "    </tr>\n",
       "    <tr>\n",
       "      <th>1</th>\n",
       "      <td>X002</td>\n",
       "      <td>商品2</td>\n",
       "      <td>面膜</td>\n",
       "      <td>护肤品</td>\n",
       "      <td>141</td>\n",
       "    </tr>\n",
       "    <tr>\n",
       "      <th>2</th>\n",
       "      <td>X003</td>\n",
       "      <td>商品3</td>\n",
       "      <td>面膜</td>\n",
       "      <td>护肤品</td>\n",
       "      <td>168</td>\n",
       "    </tr>\n",
       "    <tr>\n",
       "      <th>3</th>\n",
       "      <td>X004</td>\n",
       "      <td>商品4</td>\n",
       "      <td>面膜</td>\n",
       "      <td>护肤品</td>\n",
       "      <td>211</td>\n",
       "    </tr>\n",
       "    <tr>\n",
       "      <th>4</th>\n",
       "      <td>X005</td>\n",
       "      <td>商品5</td>\n",
       "      <td>面膜</td>\n",
       "      <td>护肤品</td>\n",
       "      <td>185</td>\n",
       "    </tr>\n",
       "  </tbody>\n",
       "</table>\n",
       "</div>"
      ],
      "text/plain": [
       "   商品编号 商品名称 商品小类 商品大类  销售单价\n",
       "0  X001  商品1   面膜  护肤品   121\n",
       "1  X002  商品2   面膜  护肤品   141\n",
       "2  X003  商品3   面膜  护肤品   168\n",
       "3  X004  商品4   面膜  护肤品   211\n",
       "4  X005  商品5   面膜  护肤品   185"
      ]
     },
     "execution_count": 37,
     "metadata": {},
     "output_type": "execute_result"
    }
   ],
   "source": [
    "product.head()"
   ]
  },
  {
   "cell_type": "code",
   "execution_count": 38,
   "id": "7957eb4b-cbfb-490d-88a8-e26173eaf787",
   "metadata": {},
   "outputs": [
    {
     "name": "stdout",
     "output_type": "stream",
     "text": [
      "<class 'pandas.core.frame.DataFrame'>\n",
      "RangeIndex: 122 entries, 0 to 121\n",
      "Data columns (total 5 columns):\n",
      " #   Column  Non-Null Count  Dtype \n",
      "---  ------  --------------  ----- \n",
      " 0   商品编号    122 non-null    object\n",
      " 1   商品名称    122 non-null    object\n",
      " 2   商品小类    122 non-null    object\n",
      " 3   商品大类    122 non-null    object\n",
      " 4   销售单价    122 non-null    int64 \n",
      "dtypes: int64(1), object(4)\n",
      "memory usage: 4.9+ KB\n"
     ]
    }
   ],
   "source": [
    "product.info()"
   ]
  },
  {
   "cell_type": "code",
   "execution_count": 39,
   "id": "586705ec-f184-41ea-9c69-04786a5caffa",
   "metadata": {},
   "outputs": [
    {
     "data": {
      "text/plain": [
       "商品编号    0\n",
       "商品名称    0\n",
       "商品小类    0\n",
       "商品大类    0\n",
       "销售单价    0\n",
       "dtype: int64"
      ]
     },
     "execution_count": 39,
     "metadata": {},
     "output_type": "execute_result"
    }
   ],
   "source": [
    "product[product.duplicated()].count()  # 没有完全重复的数据"
   ]
  },
  {
   "cell_type": "code",
   "execution_count": 40,
   "id": "38495099-18a9-4c62-91a7-e3409a42d756",
   "metadata": {},
   "outputs": [
    {
     "data": {
      "text/plain": [
       "商品编号    0\n",
       "商品名称    0\n",
       "商品小类    0\n",
       "商品大类    0\n",
       "销售单价    0\n",
       "dtype: int64"
      ]
     },
     "execution_count": 40,
     "metadata": {},
     "output_type": "execute_result"
    }
   ],
   "source": [
    "product[product['商品编号'].duplicated()].count() # ID 唯一没有重复"
   ]
  },
  {
   "cell_type": "code",
   "execution_count": 41,
   "id": "83bb0c79-41e6-4f36-9913-a9587c3ce626",
   "metadata": {},
   "outputs": [
    {
     "data": {
      "text/plain": [
       "商品编号    0\n",
       "商品名称    0\n",
       "商品小类    0\n",
       "商品大类    0\n",
       "销售单价    0\n",
       "dtype: int64"
      ]
     },
     "execution_count": 41,
     "metadata": {},
     "output_type": "execute_result"
    }
   ],
   "source": [
    "product.isnull().sum()   # 没有空值 "
   ]
  },
  {
   "cell_type": "markdown",
   "id": "940d2d71-14ac-472d-8dbd-d742703eba03",
   "metadata": {},
   "source": [
    "## 3.数据分析可视化"
   ]
  },
  {
   "cell_type": "markdown",
   "id": "27545668-02c1-493b-8f4d-5188b40a1efa",
   "metadata": {},
   "source": [
    "### 3.1每月订购情况"
   ]
  },
  {
   "cell_type": "code",
   "execution_count": 42,
   "id": "7e5f214b-22e1-4a98-bd81-57e8f4968144",
   "metadata": {},
   "outputs": [
    {
     "data": {
      "text/plain": [
       "<AxesSubplot:title={'center':'每月订购情况'}, xlabel='订单月份'>"
      ]
     },
     "execution_count": 42,
     "metadata": {},
     "output_type": "execute_result"
    },
    {
     "data": {
      "image/png": "[encoded data removed]",
      "text/plain": [
       "<Figure size 432x288 with 1 Axes>"
      ]
     },
     "metadata": {
      "needs_background": "light"
     },
     "output_type": "display_data"
    }
   ],
   "source": [
    "order['订单月份'] = order['订单日期'].apply(lambda x: x.month) \n",
    "item = order.groupby('订单月份').agg({'订购数量': 'sum', '金额': 'sum'})\n",
    "\n",
    "item.plot(kind=\"bar\",title=\"每月订购情况\")"
   ]
  },
  {
   "cell_type": "markdown",
   "id": "9903e69b-9329-4ac5-b9a7-89b5c677ebf0",
   "metadata": {},
   "source": [
    "### 3.2哪里的人最爱美"
   ]
  },
  {
   "cell_type": "code",
   "execution_count": 43,
   "id": "3b342887-c72f-4d3e-afc3-3b4cdf4d5738",
   "metadata": {},
   "outputs": [
    {
     "data": {
      "text/plain": [
       "<AxesSubplot:title={'center':'订单排行榜Top20'}, ylabel='所在地市'>"
      ]
     },
     "execution_count": 43,
     "metadata": {},
     "output_type": "execute_result"
    },
    {
     "data": {
      "image/png": "[encoded data removed]",
      "text/plain": [
       "<Figure size 432x288 with 1 Axes>"
      ]
     },
     "metadata": {
      "needs_background": "light"
     },
     "output_type": "display_data"
    }
   ],
   "source": [
    "item = (order\n",
    "        .groupby('所在地市')\n",
    "        .agg({'订购数量': 'sum'})\n",
    "        .sort_values(by='订购数量', ascending=False)[:20]\n",
    "        .sort_values(by='订购数量')[:20]\n",
    "       )\n",
    "item.plot(kind=\"barh\",title=\"订单排行榜Top20\")"
   ]
  },
  {
   "cell_type": "markdown",
   "id": "152d6c7d-de32-488c-ba79-8b73e661268b",
   "metadata": {},
   "source": [
    "### 3.3什么类型的美妆需求量最大"
   ]
  },
  {
   "cell_type": "code",
   "execution_count": 44,
   "id": "5a1f861b-3ee0-4262-964a-484736f3756b",
   "metadata": {},
   "outputs": [
    {
     "data": {
      "text/html": [
       "<div>\n",
       "<style scoped>\n",
       "    .dataframe tbody tr th:only-of-type {\n",
       "        vertical-align: middle;\n",
       "    }\n",
       "\n",
       "    .dataframe tbody tr th {\n",
       "        vertical-align: top;\n",
       "    }\n",
       "\n",
       "    .dataframe thead th {\n",
       "        text-align: right;\n",
       "    }\n",
       "</style>\n",
       "<table border=\"1\" class=\"dataframe\">\n",
       "  <thead>\n",
       "    <tr style=\"text-align: right;\">\n",
       "      <th></th>\n",
       "      <th>订单编码</th>\n",
       "      <th>订单日期</th>\n",
       "      <th>客户编码</th>\n",
       "      <th>所在区域</th>\n",
       "      <th>所在省份</th>\n",
       "      <th>所在地市</th>\n",
       "      <th>商品编号</th>\n",
       "      <th>订购数量</th>\n",
       "      <th>订购单价</th>\n",
       "      <th>金额</th>\n",
       "      <th>订单月份</th>\n",
       "      <th>商品名称</th>\n",
       "      <th>商品小类</th>\n",
       "      <th>商品大类</th>\n",
       "      <th>销售单价</th>\n",
       "    </tr>\n",
       "  </thead>\n",
       "  <tbody>\n",
       "    <tr>\n",
       "      <th>0</th>\n",
       "      <td>D31313</td>\n",
       "      <td>2019-05-16</td>\n",
       "      <td>S22796</td>\n",
       "      <td>东区</td>\n",
       "      <td>浙江</td>\n",
       "      <td>台州市</td>\n",
       "      <td>X091</td>\n",
       "      <td>892</td>\n",
       "      <td>214.0</td>\n",
       "      <td>190888.0</td>\n",
       "      <td>5</td>\n",
       "      <td>商品91</td>\n",
       "      <td>粉底</td>\n",
       "      <td>彩妆</td>\n",
       "      <td>214</td>\n",
       "    </tr>\n",
       "    <tr>\n",
       "      <th>1</th>\n",
       "      <td>D26674</td>\n",
       "      <td>2019-05-01</td>\n",
       "      <td>S15128</td>\n",
       "      <td>东区</td>\n",
       "      <td>江苏</td>\n",
       "      <td>南通市</td>\n",
       "      <td>X091</td>\n",
       "      <td>1133</td>\n",
       "      <td>214.0</td>\n",
       "      <td>242462.0</td>\n",
       "      <td>5</td>\n",
       "      <td>商品91</td>\n",
       "      <td>粉底</td>\n",
       "      <td>彩妆</td>\n",
       "      <td>214</td>\n",
       "    </tr>\n",
       "    <tr>\n",
       "      <th>2</th>\n",
       "      <td>D23381</td>\n",
       "      <td>2019-09-22</td>\n",
       "      <td>S17133</td>\n",
       "      <td>东区</td>\n",
       "      <td>江苏</td>\n",
       "      <td>宿迁市</td>\n",
       "      <td>X091</td>\n",
       "      <td>1136</td>\n",
       "      <td>214.0</td>\n",
       "      <td>243104.0</td>\n",
       "      <td>9</td>\n",
       "      <td>商品91</td>\n",
       "      <td>粉底</td>\n",
       "      <td>彩妆</td>\n",
       "      <td>214</td>\n",
       "    </tr>\n",
       "    <tr>\n",
       "      <th>3</th>\n",
       "      <td>D29060</td>\n",
       "      <td>2019-09-10</td>\n",
       "      <td>S14106</td>\n",
       "      <td>东区</td>\n",
       "      <td>江苏</td>\n",
       "      <td>常州市</td>\n",
       "      <td>X091</td>\n",
       "      <td>544</td>\n",
       "      <td>214.0</td>\n",
       "      <td>116416.0</td>\n",
       "      <td>9</td>\n",
       "      <td>商品91</td>\n",
       "      <td>粉底</td>\n",
       "      <td>彩妆</td>\n",
       "      <td>214</td>\n",
       "    </tr>\n",
       "    <tr>\n",
       "      <th>4</th>\n",
       "      <td>D21234</td>\n",
       "      <td>2019-07-03</td>\n",
       "      <td>S17197</td>\n",
       "      <td>东区</td>\n",
       "      <td>湖北</td>\n",
       "      <td>十堰市</td>\n",
       "      <td>X091</td>\n",
       "      <td>342</td>\n",
       "      <td>214.0</td>\n",
       "      <td>73188.0</td>\n",
       "      <td>7</td>\n",
       "      <td>商品91</td>\n",
       "      <td>粉底</td>\n",
       "      <td>彩妆</td>\n",
       "      <td>214</td>\n",
       "    </tr>\n",
       "    <tr>\n",
       "      <th>...</th>\n",
       "      <td>...</td>\n",
       "      <td>...</td>\n",
       "      <td>...</td>\n",
       "      <td>...</td>\n",
       "      <td>...</td>\n",
       "      <td>...</td>\n",
       "      <td>...</td>\n",
       "      <td>...</td>\n",
       "      <td>...</td>\n",
       "      <td>...</td>\n",
       "      <td>...</td>\n",
       "      <td>...</td>\n",
       "      <td>...</td>\n",
       "      <td>...</td>\n",
       "      <td>...</td>\n",
       "    </tr>\n",
       "    <tr>\n",
       "      <th>31439</th>\n",
       "      <td>D30482</td>\n",
       "      <td>2019-06-05</td>\n",
       "      <td>S11033</td>\n",
       "      <td>东区</td>\n",
       "      <td>浙江</td>\n",
       "      <td>金华市</td>\n",
       "      <td>X118</td>\n",
       "      <td>551</td>\n",
       "      <td>238.0</td>\n",
       "      <td>131138.0</td>\n",
       "      <td>6</td>\n",
       "      <td>商品118</td>\n",
       "      <td>蜜粉</td>\n",
       "      <td>彩妆</td>\n",
       "      <td>238</td>\n",
       "    </tr>\n",
       "    <tr>\n",
       "      <th>31440</th>\n",
       "      <td>D29542</td>\n",
       "      <td>2019-05-01</td>\n",
       "      <td>S12446</td>\n",
       "      <td>东区</td>\n",
       "      <td>江苏</td>\n",
       "      <td>南通市</td>\n",
       "      <td>X118</td>\n",
       "      <td>165</td>\n",
       "      <td>238.0</td>\n",
       "      <td>39270.0</td>\n",
       "      <td>5</td>\n",
       "      <td>商品118</td>\n",
       "      <td>蜜粉</td>\n",
       "      <td>彩妆</td>\n",
       "      <td>238</td>\n",
       "    </tr>\n",
       "    <tr>\n",
       "      <th>31441</th>\n",
       "      <td>D24798</td>\n",
       "      <td>2019-06-26</td>\n",
       "      <td>S16170</td>\n",
       "      <td>南区</td>\n",
       "      <td>福建</td>\n",
       "      <td>泉州市</td>\n",
       "      <td>X118</td>\n",
       "      <td>62</td>\n",
       "      <td>238.0</td>\n",
       "      <td>14756.0</td>\n",
       "      <td>6</td>\n",
       "      <td>商品118</td>\n",
       "      <td>蜜粉</td>\n",
       "      <td>彩妆</td>\n",
       "      <td>238</td>\n",
       "    </tr>\n",
       "    <tr>\n",
       "      <th>31442</th>\n",
       "      <td>D31831</td>\n",
       "      <td>2019-08-13</td>\n",
       "      <td>S22214</td>\n",
       "      <td>北区</td>\n",
       "      <td>黑龙江</td>\n",
       "      <td>佳木斯市</td>\n",
       "      <td>X118</td>\n",
       "      <td>795</td>\n",
       "      <td>238.0</td>\n",
       "      <td>189210.0</td>\n",
       "      <td>8</td>\n",
       "      <td>商品118</td>\n",
       "      <td>蜜粉</td>\n",
       "      <td>彩妆</td>\n",
       "      <td>238</td>\n",
       "    </tr>\n",
       "    <tr>\n",
       "      <th>31443</th>\n",
       "      <td>D28890</td>\n",
       "      <td>2019-07-21</td>\n",
       "      <td>S15066</td>\n",
       "      <td>西区</td>\n",
       "      <td>四川</td>\n",
       "      <td>南充市</td>\n",
       "      <td>X118</td>\n",
       "      <td>148</td>\n",
       "      <td>238.0</td>\n",
       "      <td>35224.0</td>\n",
       "      <td>7</td>\n",
       "      <td>商品118</td>\n",
       "      <td>蜜粉</td>\n",
       "      <td>彩妆</td>\n",
       "      <td>238</td>\n",
       "    </tr>\n",
       "  </tbody>\n",
       "</table>\n",
       "<p>31444 rows × 15 columns</p>\n",
       "</div>"
      ],
      "text/plain": [
       "         订单编码       订单日期    客户编码 所在区域 所在省份  所在地市  商品编号  订购数量   订购单价        金额  \\\n",
       "0      D31313 2019-05-16  S22796   东区   浙江   台州市  X091   892  214.0  190888.0   \n",
       "1      D26674 2019-05-01  S15128   东区   江苏   南通市  X091  1133  214.0  242462.0   \n",
       "2      D23381 2019-09-22  S17133   东区   江苏   宿迁市  X091  1136  214.0  243104.0   \n",
       "3      D29060 2019-09-10  S14106   东区   江苏   常州市  X091   544  214.0  116416.0   \n",
       "4      D21234 2019-07-03  S17197   东区   湖北   十堰市  X091   342  214.0   73188.0   \n",
       "...       ...        ...     ...  ...  ...   ...   ...   ...    ...       ...   \n",
       "31439  D30482 2019-06-05  S11033   东区   浙江   金华市  X118   551  238.0  131138.0   \n",
       "31440  D29542 2019-05-01  S12446   东区   江苏   南通市  X118   165  238.0   39270.0   \n",
       "31441  D24798 2019-06-26  S16170   南区   福建   泉州市  X118    62  238.0   14756.0   \n",
       "31442  D31831 2019-08-13  S22214   北区  黑龙江  佳木斯市  X118   795  238.0  189210.0   \n",
       "31443  D28890 2019-07-21  S15066   西区   四川   南充市  X118   148  238.0   35224.0   \n",
       "\n",
       "       订单月份   商品名称 商品小类 商品大类  销售单价  \n",
       "0         5   商品91   粉底   彩妆   214  \n",
       "1         5   商品91   粉底   彩妆   214  \n",
       "2         9   商品91   粉底   彩妆   214  \n",
       "3         9   商品91   粉底   彩妆   214  \n",
       "4         7   商品91   粉底   彩妆   214  \n",
       "...     ...    ...  ...  ...   ...  \n",
       "31439     6  商品118   蜜粉   彩妆   238  \n",
       "31440     5  商品118   蜜粉   彩妆   238  \n",
       "31441     6  商品118   蜜粉   彩妆   238  \n",
       "31442     8  商品118   蜜粉   彩妆   238  \n",
       "31443     7  商品118   蜜粉   彩妆   238  \n",
       "\n",
       "[31444 rows x 15 columns]"
      ]
     },
     "execution_count": 44,
     "metadata": {},
     "output_type": "execute_result"
    }
   ],
   "source": [
    "order_new = pd.merge(order, product, on='商品编号',how='inner')  # 表关联\n",
    "order_new"
   ]
  },
  {
   "cell_type": "code",
   "execution_count": 45,
   "id": "4801a926-4d49-4d84-b778-1723b45bd3eb",
   "metadata": {},
   "outputs": [
    {
     "data": {
      "text/html": [
       "<div>\n",
       "<style scoped>\n",
       "    .dataframe tbody tr th:only-of-type {\n",
       "        vertical-align: middle;\n",
       "    }\n",
       "\n",
       "    .dataframe tbody tr th {\n",
       "        vertical-align: top;\n",
       "    }\n",
       "\n",
       "    .dataframe thead th {\n",
       "        text-align: right;\n",
       "    }\n",
       "</style>\n",
       "<table border=\"1\" class=\"dataframe\">\n",
       "  <thead>\n",
       "    <tr style=\"text-align: right;\">\n",
       "      <th></th>\n",
       "      <th></th>\n",
       "      <th>订购数量</th>\n",
       "    </tr>\n",
       "    <tr>\n",
       "      <th>商品大类</th>\n",
       "      <th>商品小类</th>\n",
       "      <th></th>\n",
       "    </tr>\n",
       "  </thead>\n",
       "  <tbody>\n",
       "    <tr>\n",
       "      <th rowspan=\"5\" valign=\"top\">彩妆</th>\n",
       "      <th>口红</th>\n",
       "      <td>2013024</td>\n",
       "    </tr>\n",
       "    <tr>\n",
       "      <th>粉底</th>\n",
       "      <td>1188621</td>\n",
       "    </tr>\n",
       "    <tr>\n",
       "      <th>睫毛膏</th>\n",
       "      <td>587399</td>\n",
       "    </tr>\n",
       "    <tr>\n",
       "      <th>眼影</th>\n",
       "      <td>296599</td>\n",
       "    </tr>\n",
       "    <tr>\n",
       "      <th>蜜粉</th>\n",
       "      <td>45534</td>\n",
       "    </tr>\n",
       "    <tr>\n",
       "      <th rowspan=\"7\" valign=\"top\">护肤品</th>\n",
       "      <th>面膜</th>\n",
       "      <td>5451914</td>\n",
       "    </tr>\n",
       "    <tr>\n",
       "      <th>面霜</th>\n",
       "      <td>4566905</td>\n",
       "    </tr>\n",
       "    <tr>\n",
       "      <th>爽肤水</th>\n",
       "      <td>3523687</td>\n",
       "    </tr>\n",
       "    <tr>\n",
       "      <th>眼霜</th>\n",
       "      <td>3350743</td>\n",
       "    </tr>\n",
       "    <tr>\n",
       "      <th>隔离霜</th>\n",
       "      <td>2488124</td>\n",
       "    </tr>\n",
       "    <tr>\n",
       "      <th>防晒霜</th>\n",
       "      <td>2388610</td>\n",
       "    </tr>\n",
       "    <tr>\n",
       "      <th>洁面乳</th>\n",
       "      <td>1928020</td>\n",
       "    </tr>\n",
       "  </tbody>\n",
       "</table>\n",
       "</div>"
      ],
      "text/plain": [
       "              订购数量\n",
       "商品大类 商品小类         \n",
       "彩妆   口红    2013024\n",
       "     粉底    1188621\n",
       "     睫毛膏    587399\n",
       "     眼影     296599\n",
       "     蜜粉      45534\n",
       "护肤品  面膜    5451914\n",
       "     面霜    4566905\n",
       "     爽肤水   3523687\n",
       "     眼霜    3350743\n",
       "     隔离霜   2488124\n",
       "     防晒霜   2388610\n",
       "     洁面乳   1928020"
      ]
     },
     "execution_count": 45,
     "metadata": {},
     "output_type": "execute_result"
    }
   ],
   "source": [
    "(order_new\n",
    " .groupby(['商品大类','商品小类'])\n",
    " .agg({'订购数量': 'sum'})\n",
    " .sort_values(by=['商品大类', '订购数量'], ascending=[True, False])\n",
    ")"
   ]
  },
  {
   "cell_type": "markdown",
   "id": "bc3d3d97-78d2-4909-8be4-ad119623c210",
   "metadata": {},
   "source": [
    "### 3.4哪些省份的美妆需求量最大"
   ]
  },
  {
   "cell_type": "code",
   "execution_count": 56,
   "id": "75d12866-f47c-4243-83b0-caed992ce52f",
   "metadata": {},
   "outputs": [
    {
     "data": {
      "text/plain": [
       "<AxesSubplot:title={'center':'订购数量'}, ylabel='所在省份'>"
      ]
     },
     "execution_count": 56,
     "metadata": {},
     "output_type": "execute_result"
    },
    {
     "data": {
      "image/png": "[encoded data removed]",
      "text/plain": [
       "<Figure size 792x432 with 1 Axes>"
      ]
     },
     "metadata": {
      "needs_background": "light"
     },
     "output_type": "display_data"
    }
   ],
   "source": [
    "item = order.groupby('所在省份').agg({'订购数量': 'sum'}).sort_values(by=\"订购数量\")\n",
    "item.plot(kind=\"barh\",title=\"订购数量\",figsize=(11,6))"
   ]
  },
  {
   "cell_type": "markdown",
   "id": "46037f5c-1318-4587-9ae4-6da306601af7",
   "metadata": {},
   "source": [
    "### 3.5 通过RFM模型挖掘客户价值\n",
    "RFM 模型是衡量客户价值和客户创利能力的重要工具和手段，其中由3个要素构成了数据分析最好的指标，分别是：\n",
    "\n",
    "- R-Recency（最近一次购买时间）\n",
    "- F-Frequency（消费频率）\n",
    "- M-Money（消费金额）\n",
    "\n",
    "设定一个计算权重，比如 R-Recency 20% F-Frequency 30% M-Money 50% ，最后通过这个权重进行打分，量化客户价值，后续还可以基于分数进一步打标签，用来指导二次营销的策略。"
   ]
  },
  {
   "cell_type": "code",
   "execution_count": 58,
   "id": "c8c27cd7-96c1-4f81-a9da-9d6675046a14",
   "metadata": {},
   "outputs": [],
   "source": [
    "rfm = (order\n",
    "       .groupby('客户编码')\n",
    "       .agg({\n",
    "           '订单日期': 'max', \n",
    "           '订单编码': 'count', \n",
    "           '金额': 'sum'})\n",
    "      )\n",
    "rfm.columns = ['最近一次购买时间', '消费频率', '消费金额']"
   ]
  },
  {
   "cell_type": "code",
   "execution_count": 60,
   "id": "649d8f4b-9c12-4e5e-8f6c-31a18dbd9ddc",
   "metadata": {},
   "outputs": [
    {
     "data": {
      "text/html": [
       "<div>\n",
       "<style scoped>\n",
       "    .dataframe tbody tr th:only-of-type {\n",
       "        vertical-align: middle;\n",
       "    }\n",
       "\n",
       "    .dataframe tbody tr th {\n",
       "        vertical-align: top;\n",
       "    }\n",
       "\n",
       "    .dataframe thead th {\n",
       "        text-align: right;\n",
       "    }\n",
       "</style>\n",
       "<table border=\"1\" class=\"dataframe\">\n",
       "  <thead>\n",
       "    <tr style=\"text-align: right;\">\n",
       "      <th></th>\n",
       "      <th>最近一次购买时间</th>\n",
       "      <th>消费频率</th>\n",
       "      <th>消费金额</th>\n",
       "      <th>R</th>\n",
       "      <th>F</th>\n",
       "      <th>M</th>\n",
       "    </tr>\n",
       "    <tr>\n",
       "      <th>客户编码</th>\n",
       "      <th></th>\n",
       "      <th></th>\n",
       "      <th></th>\n",
       "      <th></th>\n",
       "      <th></th>\n",
       "      <th></th>\n",
       "    </tr>\n",
       "  </thead>\n",
       "  <tbody>\n",
       "    <tr>\n",
       "      <th>S11609</th>\n",
       "      <td>2019-09-30</td>\n",
       "      <td>42</td>\n",
       "      <td>7326027.0</td>\n",
       "      <td>0.980148</td>\n",
       "      <td>0.796399</td>\n",
       "      <td>0.903970</td>\n",
       "    </tr>\n",
       "    <tr>\n",
       "      <th>S19828</th>\n",
       "      <td>2019-09-30</td>\n",
       "      <td>21</td>\n",
       "      <td>2642275.0</td>\n",
       "      <td>0.980148</td>\n",
       "      <td>0.356879</td>\n",
       "      <td>0.306556</td>\n",
       "    </tr>\n",
       "    <tr>\n",
       "      <th>S17166</th>\n",
       "      <td>2019-09-30</td>\n",
       "      <td>17</td>\n",
       "      <td>3627037.0</td>\n",
       "      <td>0.980148</td>\n",
       "      <td>0.261311</td>\n",
       "      <td>0.478301</td>\n",
       "    </tr>\n",
       "    <tr>\n",
       "      <th>S22925</th>\n",
       "      <td>2019-09-30</td>\n",
       "      <td>31</td>\n",
       "      <td>3449117.0</td>\n",
       "      <td>0.980148</td>\n",
       "      <td>0.591413</td>\n",
       "      <td>0.457987</td>\n",
       "    </tr>\n",
       "    <tr>\n",
       "      <th>S10469</th>\n",
       "      <td>2019-09-30</td>\n",
       "      <td>30</td>\n",
       "      <td>4198071.0</td>\n",
       "      <td>0.980148</td>\n",
       "      <td>0.570175</td>\n",
       "      <td>0.564174</td>\n",
       "    </tr>\n",
       "    <tr>\n",
       "      <th>...</th>\n",
       "      <td>...</td>\n",
       "      <td>...</td>\n",
       "      <td>...</td>\n",
       "      <td>...</td>\n",
       "      <td>...</td>\n",
       "      <td>...</td>\n",
       "    </tr>\n",
       "    <tr>\n",
       "      <th>S16503</th>\n",
       "      <td>2019-04-07</td>\n",
       "      <td>14</td>\n",
       "      <td>1682893.0</td>\n",
       "      <td>0.004617</td>\n",
       "      <td>0.198061</td>\n",
       "      <td>0.146814</td>\n",
       "    </tr>\n",
       "    <tr>\n",
       "      <th>S17547</th>\n",
       "      <td>2019-03-14</td>\n",
       "      <td>10</td>\n",
       "      <td>1784531.0</td>\n",
       "      <td>0.003232</td>\n",
       "      <td>0.087258</td>\n",
       "      <td>0.163435</td>\n",
       "    </tr>\n",
       "    <tr>\n",
       "      <th>S20864</th>\n",
       "      <td>2019-03-14</td>\n",
       "      <td>8</td>\n",
       "      <td>1118752.0</td>\n",
       "      <td>0.003232</td>\n",
       "      <td>0.039243</td>\n",
       "      <td>0.047091</td>\n",
       "    </tr>\n",
       "    <tr>\n",
       "      <th>S11908</th>\n",
       "      <td>2019-03-09</td>\n",
       "      <td>9</td>\n",
       "      <td>1552311.0</td>\n",
       "      <td>0.001847</td>\n",
       "      <td>0.060942</td>\n",
       "      <td>0.125577</td>\n",
       "    </tr>\n",
       "    <tr>\n",
       "      <th>S11611</th>\n",
       "      <td>2019-03-03</td>\n",
       "      <td>10</td>\n",
       "      <td>1487966.0</td>\n",
       "      <td>0.000923</td>\n",
       "      <td>0.087258</td>\n",
       "      <td>0.113573</td>\n",
       "    </tr>\n",
       "  </tbody>\n",
       "</table>\n",
       "<p>1083 rows × 6 columns</p>\n",
       "</div>"
      ],
      "text/plain": [
       "         最近一次购买时间  消费频率       消费金额         R         F         M\n",
       "客户编码                                                            \n",
       "S11609 2019-09-30    42  7326027.0  0.980148  0.796399  0.903970\n",
       "S19828 2019-09-30    21  2642275.0  0.980148  0.356879  0.306556\n",
       "S17166 2019-09-30    17  3627037.0  0.980148  0.261311  0.478301\n",
       "S22925 2019-09-30    31  3449117.0  0.980148  0.591413  0.457987\n",
       "S10469 2019-09-30    30  4198071.0  0.980148  0.570175  0.564174\n",
       "...           ...   ...        ...       ...       ...       ...\n",
       "S16503 2019-04-07    14  1682893.0  0.004617  0.198061  0.146814\n",
       "S17547 2019-03-14    10  1784531.0  0.003232  0.087258  0.163435\n",
       "S20864 2019-03-14     8  1118752.0  0.003232  0.039243  0.047091\n",
       "S11908 2019-03-09     9  1552311.0  0.001847  0.060942  0.125577\n",
       "S11611 2019-03-03    10  1487966.0  0.000923  0.087258  0.113573\n",
       "\n",
       "[1083 rows x 6 columns]"
      ]
     },
     "execution_count": 60,
     "metadata": {},
     "output_type": "execute_result"
    }
   ],
   "source": [
    "rfm['R'] = rfm['最近一次购买时间'].rank(pct=True)   # 转化为排名 百分比，便于后续切片\n",
    "rfm['F'] = rfm['消费频率'].rank(pct=True)\n",
    "rfm['M'] = rfm['消费金额'].rank(pct=True)\n",
    "rfm.sort_values(by='R', ascending=False) "
   ]
  },
  {
   "cell_type": "code",
   "execution_count": 61,
   "id": "b9177ec4-81e2-4c73-9ffe-cd100d9dff17",
   "metadata": {},
   "outputs": [
    {
     "data": {
      "text/html": [
       "<div>\n",
       "<style scoped>\n",
       "    .dataframe tbody tr th:only-of-type {\n",
       "        vertical-align: middle;\n",
       "    }\n",
       "\n",
       "    .dataframe tbody tr th {\n",
       "        vertical-align: top;\n",
       "    }\n",
       "\n",
       "    .dataframe thead th {\n",
       "        text-align: right;\n",
       "    }\n",
       "</style>\n",
       "<table border=\"1\" class=\"dataframe\">\n",
       "  <thead>\n",
       "    <tr style=\"text-align: right;\">\n",
       "      <th></th>\n",
       "      <th>最近一次购买时间</th>\n",
       "      <th>消费频率</th>\n",
       "      <th>消费金额</th>\n",
       "      <th>R</th>\n",
       "      <th>F</th>\n",
       "      <th>M</th>\n",
       "      <th>score</th>\n",
       "    </tr>\n",
       "    <tr>\n",
       "      <th>客户编码</th>\n",
       "      <th></th>\n",
       "      <th></th>\n",
       "      <th></th>\n",
       "      <th></th>\n",
       "      <th></th>\n",
       "      <th></th>\n",
       "      <th></th>\n",
       "    </tr>\n",
       "  </thead>\n",
       "  <tbody>\n",
       "    <tr>\n",
       "      <th>S17476</th>\n",
       "      <td>2019-09-30</td>\n",
       "      <td>69</td>\n",
       "      <td>10325832.0</td>\n",
       "      <td>0.980148</td>\n",
       "      <td>0.986611</td>\n",
       "      <td>0.987073</td>\n",
       "      <td>98.6</td>\n",
       "    </tr>\n",
       "    <tr>\n",
       "      <th>S22326</th>\n",
       "      <td>2019-09-30</td>\n",
       "      <td>62</td>\n",
       "      <td>10074609.0</td>\n",
       "      <td>0.980148</td>\n",
       "      <td>0.973223</td>\n",
       "      <td>0.984303</td>\n",
       "      <td>98.0</td>\n",
       "    </tr>\n",
       "    <tr>\n",
       "      <th>S11581</th>\n",
       "      <td>2019-09-28</td>\n",
       "      <td>79</td>\n",
       "      <td>10333668.0</td>\n",
       "      <td>0.918283</td>\n",
       "      <td>0.996768</td>\n",
       "      <td>0.987996</td>\n",
       "      <td>97.7</td>\n",
       "    </tr>\n",
       "    <tr>\n",
       "      <th>S12848</th>\n",
       "      <td>2019-09-29</td>\n",
       "      <td>66</td>\n",
       "      <td>9673572.0</td>\n",
       "      <td>0.944598</td>\n",
       "      <td>0.980609</td>\n",
       "      <td>0.980609</td>\n",
       "      <td>97.3</td>\n",
       "    </tr>\n",
       "    <tr>\n",
       "      <th>S19095</th>\n",
       "      <td>2019-09-26</td>\n",
       "      <td>81</td>\n",
       "      <td>11031632.0</td>\n",
       "      <td>0.864728</td>\n",
       "      <td>0.999077</td>\n",
       "      <td>0.996307</td>\n",
       "      <td>97.1</td>\n",
       "    </tr>\n",
       "    <tr>\n",
       "      <th>...</th>\n",
       "      <td>...</td>\n",
       "      <td>...</td>\n",
       "      <td>...</td>\n",
       "      <td>...</td>\n",
       "      <td>...</td>\n",
       "      <td>...</td>\n",
       "      <td>...</td>\n",
       "    </tr>\n",
       "    <tr>\n",
       "      <th>S12690</th>\n",
       "      <td>2019-05-07</td>\n",
       "      <td>7</td>\n",
       "      <td>917233.0</td>\n",
       "      <td>0.012927</td>\n",
       "      <td>0.022622</td>\n",
       "      <td>0.024931</td>\n",
       "      <td>2.2</td>\n",
       "    </tr>\n",
       "    <tr>\n",
       "      <th>S11176</th>\n",
       "      <td>2019-06-09</td>\n",
       "      <td>7</td>\n",
       "      <td>614134.0</td>\n",
       "      <td>0.036011</td>\n",
       "      <td>0.022622</td>\n",
       "      <td>0.009234</td>\n",
       "      <td>1.9</td>\n",
       "    </tr>\n",
       "    <tr>\n",
       "      <th>S18379</th>\n",
       "      <td>2019-07-05</td>\n",
       "      <td>4</td>\n",
       "      <td>400195.0</td>\n",
       "      <td>0.071099</td>\n",
       "      <td>0.003232</td>\n",
       "      <td>0.004617</td>\n",
       "      <td>1.7</td>\n",
       "    </tr>\n",
       "    <tr>\n",
       "      <th>S13259</th>\n",
       "      <td>2019-06-01</td>\n",
       "      <td>6</td>\n",
       "      <td>645925.0</td>\n",
       "      <td>0.025854</td>\n",
       "      <td>0.011542</td>\n",
       "      <td>0.011080</td>\n",
       "      <td>1.4</td>\n",
       "    </tr>\n",
       "    <tr>\n",
       "      <th>S12463</th>\n",
       "      <td>2019-04-11</td>\n",
       "      <td>7</td>\n",
       "      <td>345919.0</td>\n",
       "      <td>0.005540</td>\n",
       "      <td>0.022622</td>\n",
       "      <td>0.000923</td>\n",
       "      <td>0.8</td>\n",
       "    </tr>\n",
       "  </tbody>\n",
       "</table>\n",
       "<p>1083 rows × 7 columns</p>\n",
       "</div>"
      ],
      "text/plain": [
       "         最近一次购买时间  消费频率        消费金额         R         F         M  score\n",
       "客户编码                                                                    \n",
       "S17476 2019-09-30    69  10325832.0  0.980148  0.986611  0.987073   98.6\n",
       "S22326 2019-09-30    62  10074609.0  0.980148  0.973223  0.984303   98.0\n",
       "S11581 2019-09-28    79  10333668.0  0.918283  0.996768  0.987996   97.7\n",
       "S12848 2019-09-29    66   9673572.0  0.944598  0.980609  0.980609   97.3\n",
       "S19095 2019-09-26    81  11031632.0  0.864728  0.999077  0.996307   97.1\n",
       "...           ...   ...         ...       ...       ...       ...    ...\n",
       "S12690 2019-05-07     7    917233.0  0.012927  0.022622  0.024931    2.2\n",
       "S11176 2019-06-09     7    614134.0  0.036011  0.022622  0.009234    1.9\n",
       "S18379 2019-07-05     4    400195.0  0.071099  0.003232  0.004617    1.7\n",
       "S13259 2019-06-01     6    645925.0  0.025854  0.011542  0.011080    1.4\n",
       "S12463 2019-04-11     7    345919.0  0.005540  0.022622  0.000923    0.8\n",
       "\n",
       "[1083 rows x 7 columns]"
      ]
     },
     "execution_count": 61,
     "metadata": {},
     "output_type": "execute_result"
    }
   ],
   "source": [
    "rfm['score'] = rfm['R'] * 20 + rfm['F'] * 30 + rfm['M'] * 50\n",
    "rfm['score'] = rfm['score'].round(1)\n",
    "rfm.sort_values(by='score', ascending=False) "
   ]
  },
  {
   "cell_type": "markdown",
   "id": "536ac77d-8d40-43c7-833b-d7de904e0428",
   "metadata": {},
   "source": [
    "根据这个分数结果，我们可以对客户打上一些标签，比如大于 80 分的，标志为优质客户，在资源有限的情况下，可以优先服务好优质客户。"
   ]
  },
  {
   "cell_type": "code",
   "execution_count": null,
   "id": "aeeaf69b-dfc9-4d53-b228-ab1b0fa6755b",
   "metadata": {},
   "outputs": [],
   "source": []
  }
 ],
 "metadata": {
  "kernelspec": {
   "display_name": "Python 3",
   "language": "python",
   "name": "python3"
  },
  "language_info": {
   "codemirror_mode": {
    "name": "ipython",
    "version": 3
   },
   "file_extension": ".py",
   "mimetype": "text/x-python",
   "name": "python",
   "nbconvert_exporter": "python",
   "pygments_lexer": "ipython3",
   "version": "3.8.8"
  }
 },
 "nbformat": 4,
 "nbformat_minor": 5
}
